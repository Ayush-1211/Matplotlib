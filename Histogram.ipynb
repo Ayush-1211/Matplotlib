{
  "nbformat": 4,
  "nbformat_minor": 0,
  "metadata": {
    "colab": {
      "name": "Histogram.ipynb",
      "provenance": []
    },
    "kernelspec": {
      "name": "python3",
      "display_name": "Python 3"
    },
    "language_info": {
      "name": "python"
    }
  },
  "cells": [
    {
      "cell_type": "code",
      "execution_count": 1,
      "metadata": {
        "id": "IwEc7x78jPgm"
      },
      "outputs": [],
      "source": [
        "import matplotlib.pyplot as plt\n",
        "%matplotlib inline"
      ]
    },
    {
      "cell_type": "code",
      "source": [
        "blood_sugar = [113,85,90,150,149,88,93,115,135,80,77,82,129]\n",
        "plt.hist(blood_sugar, bins=[80,100,125,150], rwidth=0.95, color='g', histtype='step')  \n",
        "# bins basically divide the bars | rwidth = relative width of a bar compare to a bin size"
      ],
      "metadata": {
        "colab": {
          "base_uri": "https://localhost:8080/",
          "height": 282
        },
        "id": "MjMrnaa0jW80",
        "outputId": "d9e9819c-e9d6-4ef4-f31b-6ddacbe0f87a"
      },
      "execution_count": 7,
      "outputs": [
        {
          "output_type": "execute_result",
          "data": {
            "text/plain": [
              "(array([6., 2., 4.]), array([ 80, 100, 125, 150]), <a list of 1 Patch objects>)"
            ]
          },
          "metadata": {},
          "execution_count": 7
        },
        {
          "output_type": "display_data",
          "data": {
            "image/png": "[encoded data removed]",
            "text/plain": [
              "<Figure size 432x288 with 1 Axes>"
            ]
          },
          "metadata": {
            "needs_background": "light"
          }
        }
      ]
    },
    {
      "cell_type": "code",
      "source": [
        "blood_sugar_men = [113,85,90,150,149,88,93,115,135,80,77,82,129]\n",
        "blood_sugar_women = [67,98,89,120,133,150,84,69,89,79,120,112,100]\n",
        "\n",
        "plt.xlabel('Sugar Range')\n",
        "plt.ylabel('Total no. of patients')\n",
        "plt.title('Blood Sugar Analysis')\n",
        "\n",
        "plt.hist([blood_sugar_men, blood_sugar_women], bins=[80,100,125,150], rwidth=0.95, color=['green','orange'],\n",
        "         label=['Men','Women'], orientation='horizontal')\n",
        "plt.legend()  "
      ],
      "metadata": {
        "colab": {
          "base_uri": "https://localhost:8080/",
          "height": 312
        },
        "id": "XRYASKc7jsZL",
        "outputId": "76b08460-54b8-45e9-d8f2-112981228b31"
      },
      "execution_count": 11,
      "outputs": [
        {
          "output_type": "execute_result",
          "data": {
            "text/plain": [
              "<matplotlib.legend.Legend at 0x7f60e1b5f390>"
            ]
          },
          "metadata": {},
          "execution_count": 11
        },
        {
          "output_type": "display_data",
          "data": {
            "image/png": "[encoded data removed]",
            "text/plain": [
              "<Figure size 432x288 with 1 Axes>"
            ]
          },
          "metadata": {
            "needs_background": "light"
          }
        }
      ]
    },
    {
      "cell_type": "code",
      "source": [
        ""
      ],
      "metadata": {
        "id": "mgcy0mBpsJZg"
      },
      "execution_count": null,
      "outputs": []
    }
  ]
}